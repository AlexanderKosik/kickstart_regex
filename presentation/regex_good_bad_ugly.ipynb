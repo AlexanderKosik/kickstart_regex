{
 "cells": [
  {
   "cell_type": "markdown",
   "id": "9fba0fba",
   "metadata": {
    "slideshow": {
     "slide_type": "slide"
    }
   },
   "source": [
    "# Regular Expressions\n",
    "\n",
    "The Good 😍, The Bad 😈, The Ugly 😱"
   ]
  },
  {
   "cell_type": "markdown",
   "id": "3214cb93",
   "metadata": {
    "slideshow": {
     "slide_type": "subslide"
    }
   },
   "source": [
    "# Ein bunter Blumenstrauß an Themen 💐\n",
    "\n",
    "- RegEx Basics\n",
    "- RegEx Lookarounds\n",
    "\n",
    "\n",
    "- Beispiele\n",
    "- Greediness\n",
    "- Best Practices\n",
    "- Flavors\n",
    "- Mehr Beispiele\n",
    "- Wir bauen uns eine RegEx-Engine"
   ]
  },
  {
   "cell_type": "markdown",
   "id": "3dbadcce",
   "metadata": {
    "slideshow": {
     "slide_type": "slide"
    }
   },
   "source": [
    "# RegEx Basics\n",
    "\n",
    "- Meta Characters\n",
    "- Quantifier\n",
    "- Character Classes\n",
    "- Anchors\n"
   ]
  },
  {
   "cell_type": "markdown",
   "id": "3659bf2b",
   "metadata": {
    "slideshow": {
     "slide_type": "subslide"
    }
   },
   "source": [
    "# Wozu RegEx? 🤷\n",
    "- Arbeiten mit Daten\n",
    "- Extrahieren von Daten aus Daten\n",
    "- Validieren von Daten (z.B. Benutzereingaben)\n",
    "\n",
    "# Einsatzbereiche\n",
    "- In der Shell\n",
    "- Im Editor/IDE\n",
    "- Im Source-Code"
   ]
  },
  {
   "cell_type": "markdown",
   "id": "92b8db66",
   "metadata": {
    "slideshow": {
     "slide_type": "subslide"
    }
   },
   "source": [
    "# Funktions 1️⃣0️⃣1️⃣\n",
    "\n",
    "- String-Literale matchen String-Literale\n",
    "- Der Treffer am weitesten links gewinnt\n",
    "- Die Engine arbeitet von links nach rechts"
   ]
  },
  {
   "cell_type": "code",
   "execution_count": 10,
   "id": "8ab82884",
   "metadata": {
    "slideshow": {
     "slide_type": "fragment"
    }
   },
   "outputs": [
    {
     "name": "stdout",
     "output_type": "stream",
     "text": [
      "<re.Match object; span=(49, 53), match='fire'>\n",
      "None\n"
     ]
    }
   ],
   "source": [
    "import re\n",
    "m = re.search(r\"fire\", \"Dear Sir/Madam. Im am writing to inform you of a fire which has broken out ...\")\n",
    "print(m)\n",
    "\n",
    "m = re.search(r\"fire\", \"Dear Sir/Madam. Fire! Fire! Help me\")\n",
    "print(m)"
   ]
  },
  {
   "cell_type": "markdown",
   "id": "26e0b178",
   "metadata": {
    "slideshow": {
     "slide_type": "subslide"
    }
   },
   "source": [
    "# Engine-Simulation mit PowerPoint! 🚂"
   ]
  },
  {
   "cell_type": "markdown",
   "id": "292fd170",
   "metadata": {
    "slideshow": {
     "slide_type": "subslide"
    }
   },
   "source": [
    "# Meta Characters\n",
    "\n",
    "- String-Literal matched String-Literal\n",
    "- Ausnahmen: **Meta-Characters**\n",
    "\n",
    "        Meta Characters:\n",
    "        . ^ $ * + ? { } [ ] \\ | ( )\n",
    "        \n",
    "        Meta Character . (dot)\n",
    "        Der Meta Character . matched auf ein beliebiges Zeichen\n",
    "        \n",
    "        Möchte ich Meta-Characters matchen, müssen diese mit \\ (Backslash) escaped werden\n",
    "        "
   ]
  },
  {
   "cell_type": "markdown",
   "id": "b62854cb",
   "metadata": {
    "slideshow": {
     "slide_type": "subslide"
    }
   },
   "source": [
    "# Simple filename validator\n",
    "\n",
    "Ein Dateiname besitzt in diesem Beispiel:\n",
    "\n",
    "- Genau 8 beliebige Zeichen\n",
    "- Gefolgt von einem .\n",
    "- Gefolgt von genau 3 beliebigen Zeichen"
   ]
  },
  {
   "cell_type": "code",
   "execution_count": 71,
   "id": "fdba17ed",
   "metadata": {
    "slideshow": {
     "slide_type": "fragment"
    }
   },
   "outputs": [
    {
     "ename": "AssertionError",
     "evalue": "",
     "output_type": "error",
     "traceback": [
      "\u001b[0;31m---------------------------------------------------------------------------\u001b[0m",
      "\u001b[0;31mAssertionError\u001b[0m                            Traceback (most recent call last)",
      "\u001b[0;32m/tmp/ipykernel_29048/180699368.py\u001b[0m in \u001b[0;36m<module>\u001b[0;34m\u001b[0m\n\u001b[1;32m      6\u001b[0m     \u001b[0;32mreturn\u001b[0m \u001b[0mm\u001b[0m \u001b[0;32mis\u001b[0m \u001b[0;32mnot\u001b[0m \u001b[0;32mNone\u001b[0m\u001b[0;34m\u001b[0m\u001b[0;34m\u001b[0m\u001b[0m\n\u001b[1;32m      7\u001b[0m \u001b[0;34m\u001b[0m\u001b[0m\n\u001b[0;32m----> 8\u001b[0;31m \u001b[0;32massert\u001b[0m \u001b[0msimple_validator\u001b[0m\u001b[0;34m(\u001b[0m\u001b[0;34m\"test.txt\"\u001b[0m\u001b[0;34m)\u001b[0m \u001b[0;32mis\u001b[0m \u001b[0;32mFalse\u001b[0m\u001b[0;34m\u001b[0m\u001b[0;34m\u001b[0m\u001b[0m\n\u001b[0m\u001b[1;32m      9\u001b[0m \u001b[0;32massert\u001b[0m \u001b[0msimple_validator\u001b[0m\u001b[0;34m(\u001b[0m\u001b[0;34m\"autofile.cmd\"\u001b[0m\u001b[0;34m)\u001b[0m \u001b[0;32mis\u001b[0m \u001b[0;32mTrue\u001b[0m\u001b[0;34m\u001b[0m\u001b[0;34m\u001b[0m\u001b[0m\n\u001b[1;32m     10\u001b[0m \u001b[0;32massert\u001b[0m \u001b[0msimple_validator\u001b[0m\u001b[0;34m(\u001b[0m\u001b[0;34m\"test0010.txt\"\u001b[0m\u001b[0;34m)\u001b[0m \u001b[0;32mis\u001b[0m \u001b[0;32mTrue\u001b[0m\u001b[0;34m\u001b[0m\u001b[0;34m\u001b[0m\u001b[0m\n",
      "\u001b[0;31mAssertionError\u001b[0m: "
     ]
    }
   ],
   "source": [
    "import re\n",
    "\n",
    "def simple_validator(filename):\n",
    "    # Replace ... with valid RegEx\n",
    "    m = re.match(r\"...\", filename)\n",
    "    return m is not None\n",
    "\n",
    "assert simple_validator(\"test.txt\") is False\n",
    "assert simple_validator(\"autofile.cmd\") is True\n",
    "assert simple_validator(\"test0010.txt\") is True\n",
    "assert simple_validator(\"test001.txt\") is False\n",
    "assert simple_validator(\"test.tar.gz\") is False\n",
    "assert simple_validator(\"test00100.tx\") is False\n",
    "print(\"Good RegEx!\")"
   ]
  },
  {
   "cell_type": "markdown",
   "id": "9150e855",
   "metadata": {
    "slideshow": {
     "slide_type": "slide"
    }
   },
   "source": [
    "# Quantifier"
   ]
  },
  {
   "cell_type": "markdown",
   "id": "d2934ab1",
   "metadata": {
    "slideshow": {
     "slide_type": "subslide"
    }
   },
   "source": [
    "    Quant. | Anzahl      |  Bedeutung \n",
    "    -----------------------------------------\n",
    "    *        0..x           beliebig\n",
    "    +        1..x           mindestens eins\n",
    "    ?        0..1           optional\n",
    "    {3}      3              genau 3\n",
    "    {42}     42             genau 42\n",
    "    {3,}     3..x           mindestens 3\n",
    "    {10,20}  10..20         zwischen 10 und 20"
   ]
  },
  {
   "cell_type": "code",
   "execution_count": 16,
   "id": "0d44618e",
   "metadata": {
    "slideshow": {
     "slide_type": "subslide"
    }
   },
   "outputs": [
    {
     "name": "stdout",
     "output_type": "stream",
     "text": [
      "Good RegEx!\n"
     ]
    }
   ],
   "source": [
    "import re\n",
    "\n",
    "def simple_validator(filename):\n",
    "    # Replace ... with valid RegEx\n",
    "    m = re.match(r\".{8}\\..{3}\", filename)\n",
    "    return m is not None\n",
    "\n",
    "assert simple_validator(\"test.txt\") is False\n",
    "assert simple_validator(\"autofile.cmd\") is True\n",
    "assert simple_validator(\"test0010.txt\") is True\n",
    "assert simple_validator(\"test001.txt\") is False\n",
    "assert simple_validator(\"test.tar.gz\") is False\n",
    "assert simple_validator(\"test00100.tx\") is False\n",
    "print(\"Good RegEx!\")"
   ]
  },
  {
   "cell_type": "markdown",
   "id": "741a2cb3",
   "metadata": {
    "slideshow": {
     "slide_type": "fragment"
    }
   },
   "source": [
    "More on quantifier: https://alexanderkosik.github.io/kickstart_regex/content/quantifier.html"
   ]
  },
  {
   "cell_type": "markdown",
   "id": "5c58f395",
   "metadata": {
    "slideshow": {
     "slide_type": "slide"
    }
   },
   "source": [
    "# Character classes\n",
    "\n",
    "- Was tun, wenn wir nur bestimmte Zeichen matchen wollen?\n",
    "    - Nur Zahlen\n",
    "    - Nur Großbuchstaben\n",
    "    - ..."
   ]
  },
  {
   "cell_type": "markdown",
   "id": "bfa30551",
   "metadata": {
    "slideshow": {
     "slide_type": "subslide"
    }
   },
   "source": [
    "- `[abc]` matched a or b or c\n",
    "- `[xyz]` matched x or y or z\n",
    "- `[0123456789]` matched 0 or 1 or ...9\n",
    "- `[0-9]` same\n",
    "- `[a-zA-Z]` matched a or b or c ... or A or Z\n",
    "\n",
    "\n",
    "- `[-F-H]` matched - or F or G or H (- muss am Anfang stehen!)\n",
    "- `[^0-9]` matched alles was KEINE Zahl ist, aber nicht nichts!\n",
    "\n",
    "### Shortcuts\n",
    "    \\w    Word: [a-zA-Z0-9_]\n",
    "    \\W    Non Word Character\n",
    "    \\d    Digit: [0-9]\n",
    "    \\D    Non Digit\n",
    "    \\s    Whitespace: Space, Tab, Newline\n",
    "    \\S    Non Whitespace\n",
    "    \n",
    "`^` hat eine Doppelbelegung 😱"
   ]
  },
  {
   "cell_type": "markdown",
   "id": "d1f7869a",
   "metadata": {
    "slideshow": {
     "slide_type": "fragment"
    }
   },
   "source": [
    "\n",
    "More on character classes: https://alexanderkosik.github.io/kickstart_regex/content/char_classes.html"
   ]
  },
  {
   "cell_type": "markdown",
   "id": "1b040f8e",
   "metadata": {
    "slideshow": {
     "slide_type": "slide"
    }
   },
   "source": [
    "# Anchors"
   ]
  },
  {
   "cell_type": "markdown",
   "id": "71932f0b",
   "metadata": {
    "slideshow": {
     "slide_type": "subslide"
    }
   },
   "source": [
    "Anchor matchen eine Position, **keinen** Character\n",
    "\n",
    "    ^    Matches on beginning of the line 😱\n",
    "    $    Matches on the end of a line\n",
    "    \\b   Matches on a word boundary (beginning or end of a word)\n",
    "         Matches, without consuming any characters, immediately between a character \n",
    "         matched by \\w and a character not matched by \\w (in either order)"
   ]
  },
  {
   "cell_type": "markdown",
   "id": "032b9366",
   "metadata": {
    "slideshow": {
     "slide_type": "slide"
    }
   },
   "source": [
    "# Groups"
   ]
  },
  {
   "cell_type": "markdown",
   "id": "ad1561f0",
   "metadata": {
    "slideshow": {
     "slide_type": "subslide"
    }
   },
   "source": [
    "- Gruppen werden mit `()` erstellt\n",
    "- 3 \"Use Cases\" für Gruppen\n",
    "    - Sub-Matches ausgeben\n",
    "    - Sachen zusammenpacken, z.B. für Quantifier\n",
    "    - Alternation (SubRegEx A, oder B, oder C, ...)"
   ]
  },
  {
   "cell_type": "markdown",
   "id": "942b659d",
   "metadata": {
    "slideshow": {
     "slide_type": "subslide"
    }
   },
   "source": [
    "# Beispiele"
   ]
  },
  {
   "cell_type": "markdown",
   "id": "aaf406b4",
   "metadata": {
    "slideshow": {
     "slide_type": "subslide"
    }
   },
   "source": [
    "## Sub-Matches ausgeben"
   ]
  },
  {
   "cell_type": "code",
   "execution_count": 4,
   "id": "7c505ac4",
   "metadata": {
    "slideshow": {
     "slide_type": "fragment"
    }
   },
   "outputs": [
    {
     "name": "stdout",
     "output_type": "stream",
     "text": [
      "filename: holiday1999\n",
      "ending: png\n",
      "\n",
      "filename: invoice_car_insurance\n",
      "ending: pdf\n",
      "\n",
      "filename: invoice_telekom2021\n",
      "ending: pdf\n",
      "\n",
      "filename: resumee\n",
      "ending: pdf\n",
      "\n"
     ]
    }
   ],
   "source": [
    "import re\n",
    "files = [\n",
    "    \"holiday1999.png\",\n",
    "    \"invoice_car_insurance.pdf\",\n",
    "    \"invoice_telekom2021.pdf\",\n",
    "    \"resumee.pdf\",\n",
    "]\n",
    "\n",
    "pattern = r\"(\\w+)\\.([a-z]+)$\"\n",
    "\n",
    "for file in files:\n",
    "    m = re.match(pattern, file)\n",
    "    if m:\n",
    "        print(\"filename:\", m.group(1))\n",
    "        print(\"ending:\", m.group(2))\n",
    "        print(\"\")\n",
    "\n"
   ]
  },
  {
   "cell_type": "markdown",
   "id": "9eb3ff3b",
   "metadata": {},
   "source": [
    "## Zusammenpacken"
   ]
  },
  {
   "cell_type": "code",
   "execution_count": 6,
   "id": "b08326ba",
   "metadata": {},
   "outputs": [
    {
     "name": "stdout",
     "output_type": "stream",
     "text": [
      "abcabcabc\n",
      "abcabcabc\n"
     ]
    }
   ],
   "source": [
    "import re\n",
    "\n",
    "# How can we match \"abc\" 3 times\n",
    "m = re.search(r\"abcabcabc\", \"abcabcabc\")\n",
    "print(m.group())\n",
    "\n",
    "# This looks simpler\n",
    "m = re.search(r\"(abc){3}\", \"abcabcabc\")\n",
    "print(m.group())"
   ]
  },
  {
   "cell_type": "code",
   "execution_count": null,
   "id": "260347b9",
   "metadata": {},
   "outputs": [],
   "source": [
    "## Alternatio"
   ]
  },
  {
   "cell_type": "markdown",
   "id": "a93a7f8d",
   "metadata": {
    "slideshow": {
     "slide_type": "subslide"
    }
   },
   "source": [
    "# IP-Adressen Validator\n",
    "\n",
    "### Verschiedene RegEx \"Genauigkeiten\""
   ]
  },
  {
   "cell_type": "markdown",
   "id": "c0b880a9",
   "metadata": {
    "slideshow": {
     "slide_type": "subslide"
    }
   },
   "source": [
    "### 1) Ungenau! Aber zur Suche in Logfiles ausreichend"
   ]
  },
  {
   "cell_type": "code",
   "execution_count": 34,
   "id": "95beca02",
   "metadata": {
    "slideshow": {
     "slide_type": "fragment"
    }
   },
   "outputs": [
    {
     "name": "stdout",
     "output_type": "stream",
     "text": [
      "192.168.0.1      Error transmitting 3 Bytes\r\n",
      "192.168.0.10     Error transmitting 3 Bytes\r\n",
      "192.168.1.42     Error transmitting 2 Bytes\r\n",
      "192.168.1.52     Error transmitting 2 Bytes\r\n",
      "192.168.0.100    Error transmitting 8 Bytes\r\n",
      "172.148.1.1      Error transmitting 2 Bytes\r\n",
      "192.168.0.1      Error transmitting 1 Bytes\r\n",
      "178.148.1.1      Error transmitting 2 Bytes\r\n",
      "178.148.1.1      Error transmitting 1 Bytes\r\n",
      "178.148.1.2      Error transmitting 1 Bytes\r\n",
      "178.148.1.2      Error transmitting 6 Bytes\r\n"
     ]
    }
   ],
   "source": [
    "!cat log_file_ip.txt"
   ]
  },
  {
   "cell_type": "code",
   "execution_count": 37,
   "id": "031f7909",
   "metadata": {
    "slideshow": {
     "slide_type": "fragment"
    }
   },
   "outputs": [
    {
     "name": "stdout",
     "output_type": "stream",
     "text": [
      "Error detected: 192.168.0.1      Error transmitting 3 Bytes\n",
      "Error detected: 192.168.0.10     Error transmitting 3 Bytes\n",
      "Error detected: 192.168.0.100    Error transmitting 8 Bytes\n",
      "Error detected: 192.168.0.1      Error transmitting 1 Bytes\n"
     ]
    }
   ],
   "source": [
    "# RegEx for matching 192.168.0.xxx with at least 1 digit in the last segment\n",
    "# Matches every number between 0 and 999\n",
    "pattern = r\"192\\.168\\.0\\.\\d{1,3}\"\n",
    "\n",
    "# iterate of our file and print the row if pattern matches\n",
    "with open('log_file_ip.txt') as f:\n",
    "    for row in f:\n",
    "        if re.match(pattern, row):\n",
    "            print(\"Error detected:\", row, end=\"\")"
   ]
  },
  {
   "cell_type": "markdown",
   "id": "fc1c4ffc",
   "metadata": {
    "slideshow": {
     "slide_type": "slide"
    }
   },
   "source": [
    "### 2) Auch ungenau! Aber zu ungenau und potenziell gefährlich! 😈\n",
    "\n",
    "- Angenommen wir möchten nur IP-Adressen < 10 am Ende finden (`[0-9]`)"
   ]
  },
  {
   "cell_type": "code",
   "execution_count": 43,
   "id": "3debbd36",
   "metadata": {
    "slideshow": {
     "slide_type": "fragment"
    }
   },
   "outputs": [
    {
     "name": "stdout",
     "output_type": "stream",
     "text": [
      "192.168.0.1\r\n",
      "192.168.0.1\r\n",
      "192.168.0.1\r\n",
      "192.168.0.1\r\n"
     ]
    }
   ],
   "source": [
    "!cat log_file_ip.txt |grep -o '192\\.168\\.0\\.[0-9]'"
   ]
  },
  {
   "cell_type": "markdown",
   "id": "eafcfed6",
   "metadata": {
    "slideshow": {
     "slide_type": "slide"
    }
   },
   "source": [
    "## 3) Genau. Aber evtl. zu komplex? 😱"
   ]
  },
  {
   "cell_type": "code",
   "execution_count": 60,
   "id": "c60f007a",
   "metadata": {
    "slideshow": {
     "slide_type": "subslide"
    }
   },
   "outputs": [
    {
     "name": "stdout",
     "output_type": "stream",
     "text": [
      "Good RegEx!\n"
     ]
    }
   ],
   "source": [
    "import re\n",
    "\n",
    "def exact_ip_validator(ip_address):\n",
    "    m = re.match(r\"192\\.168\\.1\\.(\\d|\\d\\d|1\\d\\d|2[0-4]\\d|25[0-5])$\", ip_address)\n",
    "    #                           ^                             ^\n",
    "    #                          has to be duplicated to verifiy generic ip address\n",
    "    \n",
    "    return m is not None\n",
    "\n",
    "assert exact_ip_validator(\"192.168.1.\") is False\n",
    "\n",
    "assert exact_ip_validator(\"192.168.1.1\") is True\n",
    "assert exact_ip_validator(\"192.168.1.11\") is True\n",
    "assert exact_ip_validator(\"192.168.1.99\") is True\n",
    "assert exact_ip_validator(\"192.168.1.111\") is True\n",
    "assert exact_ip_validator(\"192.168.1.199\") is True\n",
    "assert exact_ip_validator(\"192.168.1.200\") is True\n",
    "assert exact_ip_validator(\"192.168.1.255\") is True\n",
    "\n",
    "assert exact_ip_validator(\"192.168.1.256\") is False\n",
    "assert exact_ip_validator(\"192.168.1.999\") is False\n",
    "assert exact_ip_validator(\"192.168.1.x\") is False\n",
    "assert exact_ip_validator(\"192.168.1.xx\") is False\n",
    "assert exact_ip_validator(\"192.168.1.xxx\") is False\n",
    "print(\"Good RegEx!\")\n",
    "\n",
    "\n",
    "\n"
   ]
  },
  {
   "cell_type": "markdown",
   "id": "a1a095e0",
   "metadata": {
    "slideshow": {
     "slide_type": "slide"
    }
   },
   "source": [
    "### 4) KISS. Außerhalb des Terminals brauche ich vermutlich keinen RegEx"
   ]
  },
  {
   "cell_type": "code",
   "execution_count": 65,
   "id": "266a7a8d",
   "metadata": {
    "slideshow": {
     "slide_type": "subslide"
    }
   },
   "outputs": [
    {
     "name": "stdout",
     "output_type": "stream",
     "text": [
      "Good RegEx!\n"
     ]
    }
   ],
   "source": [
    "import re\n",
    "\n",
    "\n",
    "def exact_ip_validator(ip_address):\n",
    "    try:\n",
    "        segments = ip_address.split(\".\")\n",
    "        return all(0 < int(seg) < 256 for seg in segments)\n",
    "    except ValueError:\n",
    "        return False\n",
    "    \n",
    "assert exact_ip_validator(\"192.168.1.\") is False\n",
    "assert exact_ip_validator(\"0.0.0.0\") is False     # <--- Zusätzliche Validierung\n",
    "\n",
    "assert exact_ip_validator(\"192.168.1.1\") is True\n",
    "assert exact_ip_validator(\"192.168.1.11\") is True\n",
    "assert exact_ip_validator(\"192.168.1.99\") is True\n",
    "assert exact_ip_validator(\"192.168.1.111\") is True\n",
    "assert exact_ip_validator(\"192.168.1.199\") is True\n",
    "assert exact_ip_validator(\"192.168.1.200\") is True\n",
    "assert exact_ip_validator(\"192.168.1.255\") is True\n",
    "\n",
    "assert exact_ip_validator(\"192.168.1.256\") is False\n",
    "assert exact_ip_validator(\"192.168.1.999\") is False\n",
    "assert exact_ip_validator(\"192.168.1.x\") is False\n",
    "assert exact_ip_validator(\"192.168.1.xx\") is False\n",
    "assert exact_ip_validator(\"192.168.1.xxx\") is False\n",
    "print(\"Good RegEx!\")"
   ]
  },
  {
   "cell_type": "markdown",
   "id": "b8be90cb",
   "metadata": {
    "slideshow": {
     "slide_type": "slide"
    }
   },
   "source": [
    "# Best Practices"
   ]
  },
  {
   "cell_type": "markdown",
   "id": "9893ba78",
   "metadata": {
    "slideshow": {
     "slide_type": "subslide"
    }
   },
   "source": [
    "- Online-Hilfen\n",
    "    - [RegEx101](https://regex101.com)\n",
    "    - [Regexr](https://regexr.com)"
   ]
  },
  {
   "cell_type": "markdown",
   "id": "15eba3d3",
   "metadata": {
    "slideshow": {
     "slide_type": "subslide"
    }
   },
   "source": [
    "# Verbose Mode"
   ]
  },
  {
   "cell_type": "code",
   "execution_count": 70,
   "id": "b1009fc9",
   "metadata": {},
   "outputs": [
    {
     "name": "stdout",
     "output_type": "stream",
     "text": [
      "Good Regex\n"
     ]
    }
   ],
   "source": [
    "import re\n",
    "\n",
    "def exact_ip_validator(ip_address):\n",
    "    m = re.match(r\"\"\"\n",
    "        192\\.168\\.1\\ # Match string literal 192.168.1.\n",
    "        (            # New group used for alternation\n",
    "            \\d       # Match 0-9\n",
    "            |        # OR\n",
    "            \\d\\d     # Match 10-99\n",
    "            |        # OR\n",
    "            1\\d\\d    # Match 100-199\n",
    "            |        # OR\n",
    "            2[0-4]\\d # Match 200-249\n",
    "            |        # OR\n",
    "            25[0-5]  # Match 250 bis 255\n",
    "        )            # End group\n",
    "        $            # EOL\n",
    "    \"\"\", ip_address, re.VERBOSE)\n",
    "    \n",
    "    return m is not None\n",
    "\n",
    "assert exact_ip_validator(\"192.168.1.\") is False\n",
    "...\n",
    "print(\"Good Regex\")"
   ]
  },
  {
   "cell_type": "markdown",
   "id": "0400cb08",
   "metadata": {
    "slideshow": {
     "slide_type": "subslide"
    }
   },
   "source": [
    "# Wie genau muss ich sein?\n",
    "\n",
    "- je präziser der RegEx, desto komplexer\n",
    "- Wieviel Präzision ist wirklich notwendig? It depends ... Siehe Beispiel IP-Addresse"
   ]
  },
  {
   "cell_type": "markdown",
   "id": "45cf6c14",
   "metadata": {
    "slideshow": {
     "slide_type": "slide"
    }
   },
   "source": [
    "# Greediness 🤑"
   ]
  },
  {
   "cell_type": "markdown",
   "id": "5a03ec6e",
   "metadata": {
    "slideshow": {
     "slide_type": "fragment"
    }
   },
   "source": [
    "- Alle Quantifier sind per default greedy\n",
    "- Nehmen alles was sie kriegen können\n",
    "- Geben nur etwas ab, wenn sie müssen\n",
    "- `.*` innerhalb eines RegEx ist immer eine potenzielle Fehlerquelle"
   ]
  },
  {
   "cell_type": "markdown",
   "id": "b21601ae",
   "metadata": {
    "slideshow": {
     "slide_type": "subslide"
    }
   },
   "source": [
    "## Beispiel Greediness\n",
    "\n",
    "- Wir möchten alle HTML-Tags finden, die mit `h` beginnen\n"
   ]
  },
  {
   "cell_type": "code",
   "execution_count": 86,
   "id": "7ec8b85a",
   "metadata": {
    "slideshow": {
     "slide_type": "fragment"
    }
   },
   "outputs": [
    {
     "name": "stdout",
     "output_type": "stream",
     "text": [
      "['<html>', '<head>', '<h1>Hello World</h1>', '<h3>This is some smaller heading</h3>']\n"
     ]
    }
   ],
   "source": [
    "# This is our example html homepage\n",
    "html = \"\"\"\n",
    "<!DOCTYPE html>\n",
    "<html>\n",
    "    <head>\n",
    "        <title>Example Page</title>\n",
    "    </head>\n",
    "    <body>\n",
    "        <h1>Hello World</h1>\n",
    "        <h3>This is some smaller heading</h3>\n",
    "    </body>\n",
    "</html>\n",
    "\"\"\"\n",
    "\n",
    "# we now want to find every occurrence of <html-tags> starting with a lower case `h`.\n",
    "# Our pattern might look like this:\n",
    "pattern = r\"<h.*>\"\n",
    "\n",
    "# so we have a literal `<` followed by a literal `h`\n",
    "# followed by any number of arbitrary characters (to match html, head, h1, ...)\n",
    "# and a literal `>`\n",
    "\n",
    "# we use findall to find all results\n",
    "# have a look at the results. Is this what we wanted?!\n",
    "print(re.findall(pattern, html))"
   ]
  },
  {
   "cell_type": "code",
   "execution_count": null,
   "id": "cbb292b5",
   "metadata": {
    "slideshow": {
     "slide_type": "subslide"
    }
   },
   "outputs": [],
   "source": [
    "- Die Greediness des Quantifiers kann auf `non-greedy` geändert werden\n",
    "- Durch `?` am Ende des `*` (Achtung: Nicht zu verwechseln mit dem ? Quantifier)"
   ]
  },
  {
   "cell_type": "markdown",
   "id": "2a2d2df1",
   "metadata": {
    "slideshow": {
     "slide_type": "slide"
    }
   },
   "source": [
    "# Flavors"
   ]
  },
  {
   "cell_type": "markdown",
   "id": "1c09952b",
   "metadata": {
    "slideshow": {
     "slide_type": "slide"
    }
   },
   "source": [
    "# Mehr Beispiele"
   ]
  },
  {
   "cell_type": "markdown",
   "id": "d6644483",
   "metadata": {
    "slideshow": {
     "slide_type": "subslide"
    }
   },
   "source": [
    "# Tausender Trennzeichen\n",
    "\n",
    "    - 1000 -> 1.000\n",
    "    - 83240000 -> 83.240.000\n",
    "    - 70123 -> 70.123\n",
    "    \n",
    "    Inhalt soll ersetzt werden in einer sehr großen oder in mehreren Dateien.\n",
    "    Wie vorgehen? (Brainstorming) 🧠"
   ]
  },
  {
   "cell_type": "markdown",
   "id": "5c627f0e",
   "metadata": {
    "slideshow": {
     "slide_type": "subslide"
    }
   },
   "source": [
    "# Duplizierte Wörter erkennen"
   ]
  },
  {
   "cell_type": "code",
   "execution_count": null,
   "id": "7b3ad5e2",
   "metadata": {
    "slideshow": {
     "slide_type": "subslide"
    }
   },
   "outputs": [],
   "source": []
  },
  {
   "cell_type": "markdown",
   "id": "af4f94b6",
   "metadata": {
    "slideshow": {
     "slide_type": "slide"
    }
   },
   "source": [
    "# Wir bauen uns eine RegEx-Engine"
   ]
  },
  {
   "cell_type": "code",
   "execution_count": null,
   "id": "ab2692d7",
   "metadata": {},
   "outputs": [],
   "source": []
  }
 ],
 "metadata": {
  "celltoolbar": "Slideshow",
  "kernelspec": {
   "display_name": "Python 3 (ipykernel)",
   "language": "python",
   "name": "python3"
  },
  "language_info": {
   "codemirror_mode": {
    "name": "ipython",
    "version": 3
   },
   "file_extension": ".py",
   "mimetype": "text/x-python",
   "name": "python",
   "nbconvert_exporter": "python",
   "pygments_lexer": "ipython3",
   "version": "3.8.8"
  }
 },
 "nbformat": 4,
 "nbformat_minor": 5
}
